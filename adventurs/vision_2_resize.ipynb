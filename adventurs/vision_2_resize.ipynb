{
 "cells": [
  {
   "cell_type": "markdown",
   "id": "5da20988-9b7d-4499-bbbb-8010415a1b2b",
   "metadata": {},
   "source": [
    "#### resize"
   ]
  },
  {
   "cell_type": "markdown",
   "id": "eec53e69-b542-4aa3-91a3-b00ffbc25182",
   "metadata": {},
   "source": [
    "```bash\n",
    "sudo apt update\n",
    "sudo apt install ffmpeg\n",
    "```\n",
    "\n",
    "###### You must have input.mp4 file in ther current folder"
   ]
  },
  {
   "cell_type": "code",
   "execution_count": 7,
   "id": "adb1b9ec-7ba1-4002-83c2-8f4541c32b07",
   "metadata": {},
   "outputs": [
    {
     "name": "stderr",
     "output_type": "stream",
     "text": [
      "ffmpeg version 4.4.2-0ubuntu0.22.04.1 Copyright (c) 2000-2021 the FFmpeg developers\n",
      "  built with gcc 11 (Ubuntu 11.2.0-19ubuntu1)\n",
      "  configuration: --prefix=/usr --extra-version=0ubuntu0.22.04.1 --toolchain=hardened --libdir=/usr/lib/x86_64-linux-gnu --incdir=/usr/include/x86_64-linux-gnu --arch=amd64 --enable-gpl --disable-stripping --enable-gnutls --enable-ladspa --enable-libaom --enable-libass --enable-libbluray --enable-libbs2b --enable-libcaca --enable-libcdio --enable-libcodec2 --enable-libdav1d --enable-libflite --enable-libfontconfig --enable-libfreetype --enable-libfribidi --enable-libgme --enable-libgsm --enable-libjack --enable-libmp3lame --enable-libmysofa --enable-libopenjpeg --enable-libopenmpt --enable-libopus --enable-libpulse --enable-librabbitmq --enable-librubberband --enable-libshine --enable-libsnappy --enable-libsoxr --enable-libspeex --enable-libsrt --enable-libssh --enable-libtheora --enable-libtwolame --enable-libvidstab --enable-libvorbis --enable-libvpx --enable-libwebp --enable-libx265 --enable-libxml2 --enable-libxvid --enable-libzimg --enable-libzmq --enable-libzvbi --enable-lv2 --enable-omx --enable-openal --enable-opencl --enable-opengl --enable-sdl2 --enable-pocketsphinx --enable-librsvg --enable-libmfx --enable-libdc1394 --enable-libdrm --enable-libiec61883 --enable-chromaprint --enable-frei0r --enable-libx264 --enable-shared\n",
      "  libavutil      56. 70.100 / 56. 70.100\n",
      "  libavcodec     58.134.100 / 58.134.100\n",
      "  libavformat    58. 76.100 / 58. 76.100\n",
      "  libavdevice    58. 13.100 / 58. 13.100\n",
      "  libavfilter     7.110.100 /  7.110.100\n",
      "  libswscale      5.  9.100 /  5.  9.100\n",
      "  libswresample   3.  9.100 /  3.  9.100\n",
      "  libpostproc    55.  9.100 / 55.  9.100\n",
      "Input #0, mov,mp4,m4a,3gp,3g2,mj2, from 'input.mp4':\n",
      "  Metadata:\n",
      "    major_brand     : mp42\n",
      "    minor_version   : 0\n",
      "    compatible_brands: isommp42\n",
      "    com.android.version: 14\n",
      "  Duration: 00:05:59.93, start: 0.000000, bitrate: 8124 kb/s\n",
      "  Stream #0:0(eng): Video: h264 (High) (avc1 / 0x31637661), yuv420p(tv, bt709), 854x480, 7992 kb/s, 30 fps, 30 tbr, 90k tbn, 180k tbc (default)\n",
      "    Metadata:\n",
      "      creation_time   : 2025-03-31T13:41:10.000000Z\n",
      "      handler_name    : VideoHandle\n",
      "      vendor_id       : [0][0][0][0]\n",
      "  Stream #0:1(eng): Audio: aac (LC) (mp4a / 0x6134706D), 48000 Hz, stereo, fltp, 128 kb/s (default)\n",
      "    Metadata:\n",
      "      creation_time   : 2025-03-31T13:41:10.000000Z\n",
      "      handler_name    : SoundHandle\n",
      "      vendor_id       : [0][0][0][0]\n",
      "Stream mapping:\n",
      "  Stream #0:0 -> #0:0 (h264 (native) -> h264 (libx264))\n",
      "  Stream #0:1 -> #0:1 (aac (native) -> aac (native))\n",
      "Press [q] to stop, [?] for help\n",
      "[libx264 @ 0x55800fd206c0] using cpu capabilities: MMX2 SSE2Fast SSSE3 SSE4.2 AVX FMA3 BMI2 AVX2\n",
      "[libx264 @ 0x55800fd206c0] profile High, level 3.1, 4:2:0, 8-bit\n",
      "[libx264 @ 0x55800fd206c0] 264 - core 163 r3060 5db6aa6 - H.264/MPEG-4 AVC codec - Copyleft 2003-2021 - http://www.videolan.org/x264.html - options: cabac=1 ref=5 deblock=1:0:0 analyse=0x3:0x113 me=hex subme=8 psy=1 psy_rd=1.00:0.00 mixed_ref=1 me_range=16 chroma_me=1 trellis=2 8x8dct=1 cqm=0 deadzone=21,11 fast_pskip=1 chroma_qp_offset=-2 threads=6 lookahead_threads=1 sliced_threads=0 nr=0 decimate=1 interlaced=0 bluray_compat=0 constrained_intra=0 bframes=3 b_pyramid=2 b_adapt=1 b_bias=0 direct=3 weightb=1 open_gop=0 weightp=2 keyint=250 keyint_min=25 scenecut=40 intra_refresh=0 rc_lookahead=50 rc=crf mbtree=1 crf=28.0 qcomp=0.60 qpmin=0 qpmax=69 qpstep=4 ip_ratio=1.40 aq=1:1.00\n",
      "Output #0, mp4, to 'output.mp4':\n",
      "  Metadata:\n",
      "    major_brand     : mp42\n",
      "    minor_version   : 0\n",
      "    compatible_brands: isommp42\n",
      "    com.android.version: 14\n",
      "    encoder         : Lavf58.76.100\n",
      "  Stream #0:0(eng): Video: h264 (avc1 / 0x31637661), yuv420p(tv, bt709, progressive), 854x480, q=2-31, 30 fps, 15360 tbn (default)\n",
      "    Metadata:\n",
      "      creation_time   : 2025-03-31T13:41:10.000000Z\n",
      "      handler_name    : VideoHandle\n",
      "      vendor_id       : [0][0][0][0]\n",
      "      encoder         : Lavc58.134.100 libx264\n",
      "    Side data:\n",
      "      cpb: bitrate max/min/avg: 0/0/0 buffer size: 0 vbv_delay: N/A\n",
      "  Stream #0:1(eng): Audio: aac (LC) (mp4a / 0x6134706D), 48000 Hz, stereo, fltp, 128 kb/s (default)\n",
      "    Metadata:\n",
      "      creation_time   : 2025-03-31T13:41:10.000000Z\n",
      "      handler_name    : SoundHandle\n",
      "      vendor_id       : [0][0][0][0]\n",
      "      encoder         : Lavc58.134.100 aac\n",
      "frame=10798 fps= 50 q=-1.0 Lsize=   49707kB time=00:05:59.90 bitrate=1131.4kbits/s speed=1.66x    \n",
      "video:43669kB audio:5646kB subtitle:0kB other streams:0kB global headers:0kB muxing overhead: 0.796204%\n",
      "[libx264 @ 0x55800fd206c0] frame I:44    Avg QP:27.19  size: 61607\n",
      "[libx264 @ 0x55800fd206c0] frame P:2852  Avg QP:30.49  size: 12046\n",
      "[libx264 @ 0x55800fd206c0] frame B:7902  Avg QP:37.91  size:   968\n",
      "[libx264 @ 0x55800fd206c0] consecutive B-frames:  0.7%  4.5%  1.9% 92.9%\n",
      "[libx264 @ 0x55800fd206c0] mb I  I16..4: 12.5% 42.1% 45.4%\n",
      "[libx264 @ 0x55800fd206c0] mb P  I16..4:  0.6%  0.8%  0.5%  P16..4: 29.3% 22.4% 13.2%  0.0%  0.0%    skip:33.2%\n",
      "[libx264 @ 0x55800fd206c0] mb B  I16..4:  0.0%  0.0%  0.0%  B16..8: 33.6%  2.9%  0.5%  direct: 0.6%  skip:62.3%  L0:45.0% L1:48.6% BI: 6.4%\n",
      "[libx264 @ 0x55800fd206c0] 8x8 transform intra:42.1% inter:33.2%\n",
      "[libx264 @ 0x55800fd206c0] direct mvs  spatial:100.0% temporal:0.0%\n",
      "[libx264 @ 0x55800fd206c0] coded y,uvDC,uvAC intra: 72.6% 70.4% 37.8% inter: 9.8% 4.6% 0.6%\n",
      "[libx264 @ 0x55800fd206c0] i16 v,h,dc,p: 22% 66%  5%  6%\n",
      "[libx264 @ 0x55800fd206c0] i8 v,h,dc,ddl,ddr,vr,hd,vl,hu: 17% 12%  8%  7% 10% 12%  9% 12% 13%\n",
      "[libx264 @ 0x55800fd206c0] i4 v,h,dc,ddl,ddr,vr,hd,vl,hu: 17% 21%  8%  7%  8%  9%  8%  9% 12%\n",
      "[libx264 @ 0x55800fd206c0] i8c dc,h,v,p: 32% 36% 21% 11%\n",
      "[libx264 @ 0x55800fd206c0] Weighted P-Frames: Y:0.0% UV:0.0%\n",
      "[libx264 @ 0x55800fd206c0] ref P L0: 71.9% 13.0% 11.7%  1.4%  1.9%  0.0%\n",
      "[libx264 @ 0x55800fd206c0] ref B L0: 95.1%  3.7%  1.1%  0.1%\n",
      "[libx264 @ 0x55800fd206c0] ref B L1: 98.0%  2.0%\n",
      "[libx264 @ 0x55800fd206c0] kb/s:993.89\n",
      "[aac @ 0x55800fd76540] Qavg: 247.136\n"
     ]
    },
    {
     "data": {
      "text/plain": [
       "(None, None)"
      ]
     },
     "execution_count": 7,
     "metadata": {},
     "output_type": "execute_result"
    }
   ],
   "source": [
    "# uv add ffmpeg-python\n",
    "import ffmpeg\n",
    "\n",
    "input_file = 'input.mp4'\n",
    "output_file = 'output.mp4'\n",
    "\n",
    "(\n",
    "    ffmpeg\n",
    "    .input(input_file)\n",
    "    .output(output_file, \n",
    "            vcodec='libx264',  # H.264 codec\n",
    "            crf=28,          # Quality range (18-28 is good for size reduction)\n",
    "            preset='slow',    # Slower preset = better compression\n",
    "            acodec='aac',     # Audio codec\n",
    "            audio_bitrate='128k')\n",
    "    .run()\n",
    ")"
   ]
  },
  {
   "cell_type": "code",
   "execution_count": null,
   "id": "ef964fbf-004b-4166-b209-b75b7f5b83f8",
   "metadata": {},
   "outputs": [],
   "source": []
  }
 ],
 "metadata": {
  "kernelspec": {
   "display_name": "Python 3 (ipykernel)",
   "language": "python",
   "name": "python3"
  },
  "language_info": {
   "codemirror_mode": {
    "name": "ipython",
    "version": 3
   },
   "file_extension": ".py",
   "mimetype": "text/x-python",
   "name": "python",
   "nbconvert_exporter": "python",
   "pygments_lexer": "ipython3",
   "version": "3.10.12"
  }
 },
 "nbformat": 4,
 "nbformat_minor": 5
}
