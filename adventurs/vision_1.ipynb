{
 "cells": [
  {
   "cell_type": "markdown",
   "id": "5da20988-9b7d-4499-bbbb-8010415a1b2b",
   "metadata": {},
   "source": [
    "#### resize"
   ]
  },
  {
   "cell_type": "markdown",
   "id": "eec53e69-b542-4aa3-91a3-b00ffbc25182",
   "metadata": {},
   "source": [
    "```bash\n",
    "sudo apt update\n",
    "sudo apt install ffmpeg\n",
    "```\n",
    "\n",
    "###### You must have input.mp4 file in ther current folder"
   ]
  },
  {
   "cell_type": "code",
   "execution_count": 4,
   "id": "adb1b9ec-7ba1-4002-83c2-8f4541c32b07",
   "metadata": {},
   "outputs": [
    {
     "name": "stderr",
     "output_type": "stream",
     "text": [
      "ffmpeg version 4.4.2-0ubuntu0.22.04.1 Copyright (c) 2000-2021 the FFmpeg developers\n",
      "  built with gcc 11 (Ubuntu 11.2.0-19ubuntu1)\n",
      "  configuration: --prefix=/usr --extra-version=0ubuntu0.22.04.1 --toolchain=hardened --libdir=/usr/lib/x86_64-linux-gnu --incdir=/usr/include/x86_64-linux-gnu --arch=amd64 --enable-gpl --disable-stripping --enable-gnutls --enable-ladspa --enable-libaom --enable-libass --enable-libbluray --enable-libbs2b --enable-libcaca --enable-libcdio --enable-libcodec2 --enable-libdav1d --enable-libflite --enable-libfontconfig --enable-libfreetype --enable-libfribidi --enable-libgme --enable-libgsm --enable-libjack --enable-libmp3lame --enable-libmysofa --enable-libopenjpeg --enable-libopenmpt --enable-libopus --enable-libpulse --enable-librabbitmq --enable-librubberband --enable-libshine --enable-libsnappy --enable-libsoxr --enable-libspeex --enable-libsrt --enable-libssh --enable-libtheora --enable-libtwolame --enable-libvidstab --enable-libvorbis --enable-libvpx --enable-libwebp --enable-libx265 --enable-libxml2 --enable-libxvid --enable-libzimg --enable-libzmq --enable-libzvbi --enable-lv2 --enable-omx --enable-openal --enable-opencl --enable-opengl --enable-sdl2 --enable-pocketsphinx --enable-librsvg --enable-libmfx --enable-libdc1394 --enable-libdrm --enable-libiec61883 --enable-chromaprint --enable-frei0r --enable-libx264 --enable-shared\n",
      "  libavutil      56. 70.100 / 56. 70.100\n",
      "  libavcodec     58.134.100 / 58.134.100\n",
      "  libavformat    58. 76.100 / 58. 76.100\n",
      "  libavdevice    58. 13.100 / 58. 13.100\n",
      "  libavfilter     7.110.100 /  7.110.100\n",
      "  libswscale      5.  9.100 /  5.  9.100\n",
      "  libswresample   3.  9.100 /  3.  9.100\n",
      "  libpostproc    55.  9.100 / 55.  9.100\n",
      "Input #0, mov,mp4,m4a,3gp,3g2,mj2, from 'input.mp4':\n",
      "  Metadata:\n",
      "    major_brand     : mp42\n",
      "    minor_version   : 0\n",
      "    compatible_brands: mp42mp41isomavc1\n",
      "    creation_time   : 2015-08-07T09:13:36.000000Z\n",
      "  Duration: 00:00:30.53, start: 0.000000, bitrate: 4675 kb/s\n",
      "  Stream #0:0(und): Video: h264 (High) (avc1 / 0x31637661), yuv420p(tv, bt709), 1920x1080 [SAR 1:1 DAR 16:9], 4486 kb/s, 30 fps, 30 tbr, 30 tbn, 60 tbc (default)\n",
      "    Metadata:\n",
      "      creation_time   : 2015-08-07T09:13:36.000000Z\n",
      "      handler_name    : L-SMASH Video Handler\n",
      "      vendor_id       : [0][0][0][0]\n",
      "      encoder         : AVC Coding\n",
      "  Stream #0:1(und): Audio: aac (LC) (mp4a / 0x6134706D), 48000 Hz, stereo, fltp, 256 kb/s (default)\n",
      "    Metadata:\n",
      "      creation_time   : 2015-08-07T09:13:36.000000Z\n",
      "      handler_name    : L-SMASH Audio Handler\n",
      "      vendor_id       : [0][0][0][0]\n",
      "Stream mapping:\n",
      "  Stream #0:0 -> #0:0 (h264 (native) -> h264 (libx264))\n",
      "  Stream #0:1 -> #0:1 (aac (native) -> aac (native))\n",
      "Press [q] to stop, [?] for help\n",
      "[libx264 @ 0x55a5f6e7bf00] using SAR=1/1\n",
      "[libx264 @ 0x55a5f6e7bf00] using cpu capabilities: MMX2 SSE2Fast SSSE3 SSE4.2 AVX FMA3 BMI2 AVX2\n",
      "[libx264 @ 0x55a5f6e7bf00] profile High, level 5.0, 4:2:0, 8-bit\n",
      "[libx264 @ 0x55a5f6e7bf00] 264 - core 163 r3060 5db6aa6 - H.264/MPEG-4 AVC codec - Copyleft 2003-2021 - http://www.videolan.org/x264.html - options: cabac=1 ref=5 deblock=1:0:0 analyse=0x3:0x113 me=hex subme=8 psy=1 psy_rd=1.00:0.00 mixed_ref=1 me_range=16 chroma_me=1 trellis=2 8x8dct=1 cqm=0 deadzone=21,11 fast_pskip=1 chroma_qp_offset=-2 threads=6 lookahead_threads=1 sliced_threads=0 nr=0 decimate=1 interlaced=0 bluray_compat=0 constrained_intra=0 bframes=3 b_pyramid=2 b_adapt=1 b_bias=0 direct=3 weightb=1 open_gop=0 weightp=2 keyint=250 keyint_min=25 scenecut=40 intra_refresh=0 rc_lookahead=50 rc=crf mbtree=1 crf=28.0 qcomp=0.60 qpmin=0 qpmax=69 qpstep=4 ip_ratio=1.40 aq=1:1.00\n",
      "Output #0, mp4, to 'output.mp4':\n",
      "  Metadata:\n",
      "    major_brand     : mp42\n",
      "    minor_version   : 0\n",
      "    compatible_brands: mp42mp41isomavc1\n",
      "    encoder         : Lavf58.76.100\n",
      "  Stream #0:0(und): Video: h264 (avc1 / 0x31637661), yuv420p(tv, bt709, progressive), 1920x1080 [SAR 1:1 DAR 16:9], q=2-31, 30 fps, 15360 tbn (default)\n",
      "    Metadata:\n",
      "      creation_time   : 2015-08-07T09:13:36.000000Z\n",
      "      handler_name    : L-SMASH Video Handler\n",
      "      vendor_id       : [0][0][0][0]\n",
      "      encoder         : Lavc58.134.100 libx264\n",
      "    Side data:\n",
      "      cpb: bitrate max/min/avg: 0/0/0 buffer size: 0 vbv_delay: N/A\n",
      "  Stream #0:1(und): Audio: aac (LC) (mp4a / 0x6134706D), 48000 Hz, stereo, fltp, 128 kb/s (default)\n",
      "    Metadata:\n",
      "      creation_time   : 2015-08-07T09:13:36.000000Z\n",
      "      handler_name    : L-SMASH Audio Handler\n",
      "      vendor_id       : [0][0][0][0]\n",
      "      encoder         : Lavc58.134.100 aac\n",
      "frame=  901 fps= 30 q=-1.0 Lsize=    1535kB time=00:00:30.50 bitrate= 412.1kbits/s speed=   1x    \n",
      "video:1492kB audio:8kB subtitle:0kB other streams:0kB global headers:0kB muxing overhead: 2.253942%\n",
      "[libx264 @ 0x55a5f6e7bf00] frame I:4     Avg QP:20.25  size: 31985\n",
      "[libx264 @ 0x55a5f6e7bf00] frame P:227   Avg QP:25.16  size:  3470\n",
      "[libx264 @ 0x55a5f6e7bf00] frame B:670   Avg QP:20.55  size:   913\n",
      "[libx264 @ 0x55a5f6e7bf00] consecutive B-frames:  0.8%  0.2%  0.0% 99.0%\n",
      "[libx264 @ 0x55a5f6e7bf00] mb I  I16..4: 22.8% 72.8%  4.4%\n",
      "[libx264 @ 0x55a5f6e7bf00] mb P  I16..4:  0.2%  0.4%  0.0%  P16..4: 10.7%  2.1%  1.6%  0.0%  0.0%    skip:85.1%\n",
      "[libx264 @ 0x55a5f6e7bf00] mb B  I16..4:  0.0%  0.0%  0.0%  B16..8: 12.2%  0.0%  0.0%  direct: 0.0%  skip:87.8%  L0:37.3% L1:62.6% BI: 0.1%\n",
      "[libx264 @ 0x55a5f6e7bf00] 8x8 transform intra:69.0% inter:71.0%\n",
      "[libx264 @ 0x55a5f6e7bf00] direct mvs  spatial:99.4% temporal:0.6%\n",
      "[libx264 @ 0x55a5f6e7bf00] coded y,uvDC,uvAC intra: 18.0% 20.9% 3.9% inter: 0.3% 0.9% 0.0%\n",
      "[libx264 @ 0x55a5f6e7bf00] i16 v,h,dc,p: 65%  8% 12% 15%\n",
      "[libx264 @ 0x55a5f6e7bf00] i8 v,h,dc,ddl,ddr,vr,hd,vl,hu: 18%  8% 43%  5%  7%  6%  5%  4%  4%\n",
      "[libx264 @ 0x55a5f6e7bf00] i4 v,h,dc,ddl,ddr,vr,hd,vl,hu:  5%  6% 13% 13% 16% 11% 13%  9% 15%\n",
      "[libx264 @ 0x55a5f6e7bf00] i8c dc,h,v,p: 76% 11%  9%  4%\n",
      "[libx264 @ 0x55a5f6e7bf00] Weighted P-Frames: Y:0.0% UV:0.0%\n",
      "[libx264 @ 0x55a5f6e7bf00] ref P L0: 67.1% 20.0%  9.1%  1.9%  1.8%\n",
      "[libx264 @ 0x55a5f6e7bf00] ref B L0: 97.2%  2.2%  0.5%  0.1%\n",
      "[libx264 @ 0x55a5f6e7bf00] ref B L1: 99.0%  1.0%\n",
      "[libx264 @ 0x55a5f6e7bf00] kb/s:406.91\n",
      "[aac @ 0x55a5f6e913c0] Qavg: 65536.000\n"
     ]
    },
    {
     "data": {
      "text/plain": [
       "(None, None)"
      ]
     },
     "execution_count": 4,
     "metadata": {},
     "output_type": "execute_result"
    }
   ],
   "source": [
    "import ffmpeg\n",
    "\n",
    "input_file = 'input.mp4'\n",
    "output_file = 'output.mp4'\n",
    "\n",
    "(\n",
    "    ffmpeg\n",
    "    .input(input_file)\n",
    "    .output(output_file, \n",
    "            vcodec='libx264',  # H.264 codec\n",
    "            crf=28,          # Quality range (18-28 is good for size reduction)\n",
    "            preset='slow',    # Slower preset = better compression\n",
    "            acodec='aac',     # Audio codec\n",
    "            audio_bitrate='128k')\n",
    "    .run()\n",
    ")"
   ]
  },
  {
   "cell_type": "code",
   "execution_count": null,
   "id": "ef964fbf-004b-4166-b209-b75b7f5b83f8",
   "metadata": {},
   "outputs": [],
   "source": []
  }
 ],
 "metadata": {
  "kernelspec": {
   "display_name": "Python 3 (ipykernel)",
   "language": "python",
   "name": "python3"
  },
  "language_info": {
   "codemirror_mode": {
    "name": "ipython",
    "version": 3
   },
   "file_extension": ".py",
   "mimetype": "text/x-python",
   "name": "python",
   "nbconvert_exporter": "python",
   "pygments_lexer": "ipython3",
   "version": "3.10.12"
  }
 },
 "nbformat": 4,
 "nbformat_minor": 5
}
