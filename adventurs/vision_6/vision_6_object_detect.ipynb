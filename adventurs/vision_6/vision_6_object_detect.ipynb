{
 "cells": [
  {
   "cell_type": "markdown",
   "id": "5e40e327-ef5c-468c-a3d8-0348279ad6be",
   "metadata": {
    "jp-MarkdownHeadingCollapsed": true
   },
   "source": [
    "##### Offline and it doesn't give me location"
   ]
  },
  {
   "cell_type": "code",
   "execution_count": 1,
   "id": "fafcb243-f211-45b7-afff-02e12abe92b3",
   "metadata": {},
   "outputs": [
    {
     "name": "stderr",
     "output_type": "stream",
     "text": [
      "/home/mohsen/frr/source_venv/.venv/lib/python3.11/site-packages/transformers/models/detr/feature_extraction_detr.py:38: FutureWarning: The class DetrFeatureExtractor is deprecated and will be removed in version 5 of Transformers. Please use DetrImageProcessor instead.\n",
      "  warnings.warn(\n",
      "Some weights of the model checkpoint at ./model_detr_resnet_50 were not used when initializing DetrForObjectDetection: ['model.backbone.conv_encoder.model.layer1.0.downsample.1.num_batches_tracked', 'model.backbone.conv_encoder.model.layer2.0.downsample.1.num_batches_tracked', 'model.backbone.conv_encoder.model.layer3.0.downsample.1.num_batches_tracked', 'model.backbone.conv_encoder.model.layer4.0.downsample.1.num_batches_tracked']\n",
      "- This IS expected if you are initializing DetrForObjectDetection from the checkpoint of a model trained on another task or with another architecture (e.g. initializing a BertForSequenceClassification model from a BertForPreTraining model).\n",
      "- This IS NOT expected if you are initializing DetrForObjectDetection from the checkpoint of a model that you expect to be exactly identical (initializing a BertForSequenceClassification model from a BertForSequenceClassification model).\n",
      "Device set to use cpu\n"
     ]
    }
   ],
   "source": [
    "from transformers import pipeline, AutoFeatureExtractor, AutoModelForObjectDetection\n",
    "\n",
    "# Option 1: Download the model manually first\n",
    "# Visit huggingface.co/facebook/detr-resnet-50 and download the model files\n",
    "# Save them to a directory like \"local_model_directory\"\n",
    "\n",
    "# Then load the model from local files\n",
    "model_path = \"./model_detr_resnet_50\"  # Path to where you saved the model files\n",
    "feature_extractor = AutoFeatureExtractor.from_pretrained(model_path, local_files_only=True)\n",
    "model = AutoModelForObjectDetection.from_pretrained(model_path, local_files_only=True)\n",
    "detector = pipeline(\"object-detection\", model=model, feature_extractor=feature_extractor)"
   ]
  },
  {
   "cell_type": "code",
   "execution_count": 2,
   "id": "1fa116ba-eb12-41d2-b599-58a4c2b21e8d",
   "metadata": {},
   "outputs": [
    {
     "name": "stdout",
     "output_type": "stream",
     "text": [
      "Detected objects:\n",
      "- cup (confidence: 98.68%)\n",
      "- book (confidence: 99.41%)\n"
     ]
    }
   ],
   "source": [
    "# Rest of your code remains the same\n",
    "from PIL import Image\n",
    "\n",
    "# Load an image from a local file\n",
    "image_path = \"./pictures/img_1.jpg\"\n",
    "image = Image.open(image_path)\n",
    "\n",
    "# Run detection\n",
    "results = detector(image)\n",
    "\n",
    "# Print results\n",
    "print(\"Detected objects:\")\n",
    "for result in results:\n",
    "    label = result[\"label\"]\n",
    "    score = round(result[\"score\"] * 100, 2)\n",
    "    print(f\"- {label} (confidence: {score}%)\")"
   ]
  },
  {
   "cell_type": "markdown",
   "id": "0b3092d4-f330-4ef8-aef6-8c3efdf231d3",
   "metadata": {
    "jp-MarkdownHeadingCollapsed": true
   },
   "source": [
    "##### online"
   ]
  },
  {
   "cell_type": "code",
   "execution_count": 3,
   "id": "c5f6038c-3e10-4c8a-9048-a95a8b5edef8",
   "metadata": {},
   "outputs": [
    {
     "name": "stdout",
     "output_type": "stream",
     "text": [
      "Detected remote with confidence 0.998 at location [40.16, 70.81, 175.55, 117.98]\n",
      "Detected remote with confidence 0.996 at location [333.24, 72.55, 368.33, 187.66]\n",
      "Detected couch with confidence 0.995 at location [-0.02, 1.15, 639.73, 473.76]\n",
      "Detected cat with confidence 0.999 at location [13.24, 52.05, 314.02, 470.93]\n",
      "Detected cat with confidence 0.999 at location [345.4, 23.85, 640.37, 368.72]\n"
     ]
    }
   ],
   "source": [
    "from transformers import DetrImageProcessor, DetrForObjectDetection\n",
    "import torch\n",
    "from PIL import Image\n",
    "import requests\n",
    "\n",
    "url = \"http://images.cocodataset.org/val2017/000000039769.jpg\"\n",
    "image = Image.open(requests.get(url, stream=True).raw)\n",
    "\n",
    "# you can specify the revision tag if you don't want the timm dependency\n",
    "processor = DetrImageProcessor.from_pretrained(\"facebook/detr-resnet-50\", revision=\"no_timm\")\n",
    "model = DetrForObjectDetection.from_pretrained(\"facebook/detr-resnet-50\", revision=\"no_timm\")\n",
    "\n",
    "inputs = processor(images=image, return_tensors=\"pt\")\n",
    "outputs = model(**inputs)\n",
    "\n",
    "# convert outputs (bounding boxes and class logits) to COCO API\n",
    "# let's only keep detections with score > 0.9\n",
    "target_sizes = torch.tensor([image.size[::-1]])\n",
    "results = processor.post_process_object_detection(outputs, target_sizes=target_sizes, threshold=0.9)[0]\n",
    "\n",
    "for score, label, box in zip(results[\"scores\"], results[\"labels\"], results[\"boxes\"]):\n",
    "    box = [round(i, 2) for i in box.tolist()]\n",
    "    print(\n",
    "            f\"Detected {model.config.id2label[label.item()]} with confidence \"\n",
    "            f\"{round(score.item(), 3)} at location {box}\"\n",
    "    )"
   ]
  },
  {
   "cell_type": "markdown",
   "id": "db08b98e-36ef-43d5-8504-8f5d5e27bfef",
   "metadata": {
    "jp-MarkdownHeadingCollapsed": true
   },
   "source": [
    "##### Offline"
   ]
  },
  {
   "cell_type": "code",
   "execution_count": 5,
   "id": "f4e36619-b91b-4d09-9b31-fdf7f33d8655",
   "metadata": {},
   "outputs": [
    {
     "name": "stderr",
     "output_type": "stream",
     "text": [
      "Some weights of the model checkpoint at ./model_detr_resnet_50 were not used when initializing DetrForObjectDetection: ['model.backbone.conv_encoder.model.layer1.0.downsample.1.num_batches_tracked', 'model.backbone.conv_encoder.model.layer2.0.downsample.1.num_batches_tracked', 'model.backbone.conv_encoder.model.layer3.0.downsample.1.num_batches_tracked', 'model.backbone.conv_encoder.model.layer4.0.downsample.1.num_batches_tracked']\n",
      "- This IS expected if you are initializing DetrForObjectDetection from the checkpoint of a model trained on another task or with another architecture (e.g. initializing a BertForSequenceClassification model from a BertForPreTraining model).\n",
      "- This IS NOT expected if you are initializing DetrForObjectDetection from the checkpoint of a model that you expect to be exactly identical (initializing a BertForSequenceClassification model from a BertForSequenceClassification model).\n"
     ]
    },
    {
     "name": "stdout",
     "output_type": "stream",
     "text": [
      "Detected cup with confidence 0.987 at location [788.98, 316.17, 1143.04, 1005.37]\n",
      "Detected book with confidence 0.994 at location [291.63, 1125.75, 1779.65, 2647.75]\n"
     ]
    }
   ],
   "source": [
    "from transformers import DetrImageProcessor, DetrForObjectDetection\n",
    "import torch\n",
    "from PIL import Image\n",
    "\n",
    "# Load image from local file system\n",
    "image_path = \"./pictures/img_1.jpg\"  # Update with your actual path\n",
    "image = Image.open(image_path)\n",
    "\n",
    "# Load models from local paths (after you've saved them once)\n",
    "# ------------- Downloaded one more time ---------------\n",
    "# processor = DetrImageProcessor.from_pretrained(\"./detr_processor\")\n",
    "# model = DetrForObjectDetection.from_pretrained(\"./detr_model\")\n",
    "\n",
    "processor = DetrImageProcessor.from_pretrained(\"./model_detr_resnet_50\")\n",
    "model = DetrForObjectDetection.from_pretrained(\"./model_detr_resnet_50\")\n",
    "\n",
    "# Process the image\n",
    "inputs = processor(images=image, return_tensors=\"pt\")\n",
    "outputs = model(**inputs)\n",
    "\n",
    "# Process results\n",
    "target_sizes = torch.tensor([image.size[::-1]])\n",
    "results = processor.post_process_object_detection(outputs, target_sizes=target_sizes, threshold=0.9)[0]\n",
    "\n",
    "for score, label, box in zip(results[\"scores\"], results[\"labels\"], results[\"boxes\"]):\n",
    "    box = [round(i, 2) for i in box.tolist()]\n",
    "    print(\n",
    "        f\"Detected {model.config.id2label[label.item()]} with confidence \"\n",
    "        f\"{round(score.item(), 3)} at location {box}\"\n",
    "    )"
   ]
  },
  {
   "cell_type": "code",
   "execution_count": null,
   "id": "e829b164-fb61-4838-84a0-798dad880eb8",
   "metadata": {},
   "outputs": [],
   "source": []
  }
 ],
 "metadata": {
  "kernelspec": {
   "display_name": "Python 3 (ipykernel)",
   "language": "python",
   "name": "python3"
  },
  "language_info": {
   "codemirror_mode": {
    "name": "ipython",
    "version": 3
   },
   "file_extension": ".py",
   "mimetype": "text/x-python",
   "name": "python",
   "nbconvert_exporter": "python",
   "pygments_lexer": "ipython3",
   "version": "3.11.11"
  }
 },
 "nbformat": 4,
 "nbformat_minor": 5
}
