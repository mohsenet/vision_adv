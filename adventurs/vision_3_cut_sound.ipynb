{
 "cells": [
  {
   "cell_type": "code",
   "execution_count": 3,
   "id": "8ede625c-6ab1-4216-9cea-b89a7edc1bda",
   "metadata": {},
   "outputs": [
    {
     "name": "stdout",
     "output_type": "stream",
     "text": [
      "Successfully extracted audio to output.mp3\n"
     ]
    }
   ],
   "source": [
    "import ffmpeg\n",
    "\n",
    "input_file = \"input.mp4\"\n",
    "output_audio = \"output.mp3\"  # MP3 format\n",
    "\n",
    "try:\n",
    "    # Extract audio with explicit re-encoding\n",
    "    process = (\n",
    "        ffmpeg\n",
    "        .input(input_file)\n",
    "        .output(output_audio, acodec='libmp3lame', q=3)  # Convert to MP3\n",
    "        .global_args('-y')  # Overwrite output if it exists\n",
    "        .run(capture_stderr=True)\n",
    "    )\n",
    "    print(f\"Successfully extracted audio to {output_audio}\")\n",
    "except ffmpeg.Error as e:\n",
    "    if hasattr(e, 'stderr') and e.stderr is not None:\n",
    "        print(f\"An error occurred: {e.stderr.decode('utf8')}\")\n",
    "    else:\n",
    "        print(f\"An error occurred but no stderr output was captured: {str(e)}\")\n",
    "except Exception as e:\n",
    "    print(f\"An unexpected error occurred: {str(e)}\")"
   ]
  },
  {
   "cell_type": "code",
   "execution_count": null,
   "id": "0cf0475d-12b3-4221-84fa-9f4a1a651767",
   "metadata": {},
   "outputs": [],
   "source": []
  }
 ],
 "metadata": {
  "kernelspec": {
   "display_name": "Python 3 (ipykernel)",
   "language": "python",
   "name": "python3"
  },
  "language_info": {
   "codemirror_mode": {
    "name": "ipython",
    "version": 3
   },
   "file_extension": ".py",
   "mimetype": "text/x-python",
   "name": "python",
   "nbconvert_exporter": "python",
   "pygments_lexer": "ipython3",
   "version": "3.10.12"
  }
 },
 "nbformat": 4,
 "nbformat_minor": 5
}
